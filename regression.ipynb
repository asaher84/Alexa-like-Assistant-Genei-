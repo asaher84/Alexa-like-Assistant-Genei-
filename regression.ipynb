{
 "cells": [
  {
   "cell_type": "code",
   "execution_count": 11,
   "id": "2d785212",
   "metadata": {},
   "outputs": [],
   "source": [
    "import pandas as pd\n",
    "from sklearn.linear_model import LinearRegression\n",
    "from sklearn.model_selection import train_test_split\n",
    "from sklearn.linear_model import LinearRegression\n",
    "import numpy as np\n",
    "import warnings\n",
    "warnings.filterwarnings(\"ignore\")\n",
    "\n"
   ]
  },
  {
   "cell_type": "markdown",
   "id": "c0f8053a",
   "metadata": {},
   "source": [
    "LOAD THE PREPROCESSED DATA"
   ]
  },
  {
   "cell_type": "code",
   "execution_count": 12,
   "id": "f771e69e",
   "metadata": {},
   "outputs": [],
   "source": [
    "df = pd.read_csv('dataframe\\data.csv')"
   ]
  },
  {
   "cell_type": "code",
   "execution_count": 13,
   "id": "d6c00281",
   "metadata": {},
   "outputs": [
    {
     "data": {
      "text/html": [
       "<div>\n",
       "<style scoped>\n",
       "    .dataframe tbody tr th:only-of-type {\n",
       "        vertical-align: middle;\n",
       "    }\n",
       "\n",
       "    .dataframe tbody tr th {\n",
       "        vertical-align: top;\n",
       "    }\n",
       "\n",
       "    .dataframe thead th {\n",
       "        text-align: right;\n",
       "    }\n",
       "</style>\n",
       "<table border=\"1\" class=\"dataframe\">\n",
       "  <thead>\n",
       "    <tr style=\"text-align: right;\">\n",
       "      <th></th>\n",
       "      <th>coin</th>\n",
       "      <th>symbol</th>\n",
       "      <th>price</th>\n",
       "      <th>date</th>\n",
       "      <th>mkt_cap_to_volume_ratio</th>\n",
       "      <th>price_change_7d</th>\n",
       "      <th>price_change_24h</th>\n",
       "      <th>liquidity_ratio</th>\n",
       "      <th>moving_average_mkt_cap_7d</th>\n",
       "      <th>std_dev_price_7d</th>\n",
       "    </tr>\n",
       "  </thead>\n",
       "  <tbody>\n",
       "    <tr>\n",
       "      <th>0</th>\n",
       "      <td>Acala</td>\n",
       "      <td>ACA</td>\n",
       "      <td>1.080000</td>\n",
       "      <td>2022-03-17</td>\n",
       "      <td>15.546194</td>\n",
       "      <td>32.243177</td>\n",
       "      <td>0.286790</td>\n",
       "      <td>0.064324</td>\n",
       "      <td>4.362932e+08</td>\n",
       "      <td>5.299799</td>\n",
       "    </tr>\n",
       "    <tr>\n",
       "      <th>1</th>\n",
       "      <td>Alchemy Pay</td>\n",
       "      <td>ACH</td>\n",
       "      <td>0.040565</td>\n",
       "      <td>2022-03-16</td>\n",
       "      <td>17.774343</td>\n",
       "      <td>32.243177</td>\n",
       "      <td>-0.233708</td>\n",
       "      <td>0.056261</td>\n",
       "      <td>4.362932e+08</td>\n",
       "      <td>5.299799</td>\n",
       "    </tr>\n",
       "    <tr>\n",
       "      <th>2</th>\n",
       "      <td>Alchemy Pay</td>\n",
       "      <td>ACH</td>\n",
       "      <td>0.040005</td>\n",
       "      <td>2022-03-17</td>\n",
       "      <td>24.117363</td>\n",
       "      <td>32.243177</td>\n",
       "      <td>-0.013809</td>\n",
       "      <td>0.041464</td>\n",
       "      <td>4.362932e+08</td>\n",
       "      <td>5.299799</td>\n",
       "    </tr>\n",
       "    <tr>\n",
       "      <th>3</th>\n",
       "      <td>Cardano</td>\n",
       "      <td>ADA</td>\n",
       "      <td>0.824161</td>\n",
       "      <td>2022-03-16</td>\n",
       "      <td>13.479384</td>\n",
       "      <td>32.243177</td>\n",
       "      <td>0.286790</td>\n",
       "      <td>0.074187</td>\n",
       "      <td>4.362932e+08</td>\n",
       "      <td>5.299799</td>\n",
       "    </tr>\n",
       "    <tr>\n",
       "      <th>4</th>\n",
       "      <td>Cardano</td>\n",
       "      <td>ADA</td>\n",
       "      <td>0.838396</td>\n",
       "      <td>2022-03-17</td>\n",
       "      <td>13.479384</td>\n",
       "      <td>32.243177</td>\n",
       "      <td>0.017272</td>\n",
       "      <td>0.074187</td>\n",
       "      <td>4.362932e+08</td>\n",
       "      <td>5.299799</td>\n",
       "    </tr>\n",
       "  </tbody>\n",
       "</table>\n",
       "</div>"
      ],
      "text/plain": [
       "          coin symbol     price        date  mkt_cap_to_volume_ratio  \\\n",
       "0        Acala    ACA  1.080000  2022-03-17                15.546194   \n",
       "1  Alchemy Pay    ACH  0.040565  2022-03-16                17.774343   \n",
       "2  Alchemy Pay    ACH  0.040005  2022-03-17                24.117363   \n",
       "3      Cardano    ADA  0.824161  2022-03-16                13.479384   \n",
       "4      Cardano    ADA  0.838396  2022-03-17                13.479384   \n",
       "\n",
       "   price_change_7d  price_change_24h  liquidity_ratio  \\\n",
       "0        32.243177          0.286790         0.064324   \n",
       "1        32.243177         -0.233708         0.056261   \n",
       "2        32.243177         -0.013809         0.041464   \n",
       "3        32.243177          0.286790         0.074187   \n",
       "4        32.243177          0.017272         0.074187   \n",
       "\n",
       "   moving_average_mkt_cap_7d  std_dev_price_7d  \n",
       "0               4.362932e+08          5.299799  \n",
       "1               4.362932e+08          5.299799  \n",
       "2               4.362932e+08          5.299799  \n",
       "3               4.362932e+08          5.299799  \n",
       "4               4.362932e+08          5.299799  "
      ]
     },
     "execution_count": 13,
     "metadata": {},
     "output_type": "execute_result"
    }
   ],
   "source": [
    "df.head()"
   ]
  },
  {
   "cell_type": "markdown",
   "id": "570765b7",
   "metadata": {},
   "source": [
    "SELECT FEATURES TO TRAIN THE DATA"
   ]
  },
  {
   "cell_type": "code",
   "execution_count": 14,
   "id": "92c9c862",
   "metadata": {},
   "outputs": [],
   "source": [
    "features = ['price','mkt_cap_to_volume_ratio','price_change_7d','price_change_24h',\n",
    "            'moving_average_mkt_cap_7d','std_dev_price_7d']\n"
   ]
  },
  {
   "cell_type": "code",
   "execution_count": 15,
   "id": "4337baa6",
   "metadata": {},
   "outputs": [],
   "source": [
    "# Split the data into features and target variable\n",
    "x = df[features]\n",
    "y = df['liquidity_ratio']"
   ]
  },
  {
   "cell_type": "code",
   "execution_count": 16,
   "id": "3c308c5a",
   "metadata": {},
   "outputs": [],
   "source": [
    "from sklearn.linear_model import LinearRegression\n",
    "from sklearn.svm import SVR\n",
    "from sklearn.ensemble import RandomForestRegressor\n",
    "from sklearn.tree import DecisionTreeRegressor\n",
    "from sklearn.ensemble import GradientBoostingRegressor\n",
    "from sklearn.ensemble import AdaBoostRegressor\n",
    "from sklearn.neural_network import MLPRegressor\n",
    "from xgboost import XGBRegressor\n",
    "\n",
    "models = {\n",
    "    'linear regression' : LinearRegression(),\n",
    "    'svr' : SVR(),\n",
    "    'random forest' : RandomForestRegressor(),  \n",
    "    'decision tree' : DecisionTreeRegressor(),\n",
    "    'gradient boosting' : GradientBoostingRegressor(),\n",
    "    'ada boost' : AdaBoostRegressor(),\n",
    "    'mlp' : MLPRegressor(),\n",
    "    'XGBoost' : XGBRegressor()\n",
    "}\n",
    "\n",
    "def best_model(x , y , models):\n",
    "    score = []\n",
    "    model_name = []\n",
    "    \n",
    "    x_train , x_test , y_train , y_test = train_test_split(x,y,test_size=0.25,random_state=42)\n",
    "    for name , model in models.items():\n",
    "        model.fit(x_train , y_train)\n",
    "        score.append(model.score(x_test , y_test))\n",
    "        model_name.append(name)\n",
    "    for name , score in zip(model_name,score):\n",
    "        print(f\"{name} : {score}\")"
   ]
  },
  {
   "cell_type": "code",
   "execution_count": 17,
   "id": "63ab5393",
   "metadata": {},
   "outputs": [
    {
     "name": "stdout",
     "output_type": "stream",
     "text": [
      "linear regression : 0.45168577381940345\n",
      "svr : -0.37549880540812586\n",
      "random forest : 0.9998584089786531\n",
      "decision tree : 0.999767727637906\n",
      "gradient boosting : 0.9998629917989172\n",
      "ada boost : 0.9967390492149413\n",
      "mlp : -30118.462931186874\n",
      "XGBoost : 0.9996351029707182\n"
     ]
    }
   ],
   "source": [
    "best_model(x,y,models)"
   ]
  },
  {
   "cell_type": "code",
   "execution_count": 18,
   "id": "2809612a",
   "metadata": {},
   "outputs": [
    {
     "name": "stdout",
     "output_type": "stream",
     "text": [
      "0.9998632491247118\n"
     ]
    }
   ],
   "source": [
    "from sklearn.metrics import r2_score\n",
    "model = GradientBoostingRegressor()\n",
    "\n",
    "x_train , x_test , y_train , y_test = train_test_split(x,y,random_state=42)\n",
    "\n",
    "# modelll = GradientBoostingRegressor\n",
    "model.fit(x_train,y_train)\n",
    "y_pred = model.predict(x_test)\n",
    "\n",
    "score = r2_score(y_test,y_pred)\n",
    "print(score)"
   ]
  },
  {
   "cell_type": "code",
   "execution_count": 19,
   "id": "daaea2e1",
   "metadata": {},
   "outputs": [
    {
     "name": "stdout",
     "output_type": "stream",
     "text": [
      "📊 Model Evaluation\n",
      "Mean Squared Error (MSE): 3.4627817609163144e-07\n",
      "R² Score: 0.9998632491247118\n"
     ]
    }
   ],
   "source": [
    "from sklearn.metrics import mean_squared_error, r2_score\n",
    "\n",
    "# Evaluate model performance\n",
    "y_pred = model.predict(x_test)\n",
    "mse = mean_squared_error(y_test , y_pred)\n",
    "r2 = r2_score(y_test , y_pred)\n",
    "\n",
    "print(\"📊 Model Evaluation\")\n",
    "print(\"Mean Squared Error (MSE):\", mse)\n",
    "print(\"R² Score:\", r2)\n"
   ]
  },
  {
   "cell_type": "code",
   "execution_count": 20,
   "id": "f953bce6",
   "metadata": {},
   "outputs": [],
   "source": [
    "import pickle\n",
    "# Save the model to disk\n",
    "pickle.dump(model, open('coin_model.pkl', 'wb'))"
   ]
  },
  {
   "cell_type": "code",
   "execution_count": null,
   "id": "93cb9a7e",
   "metadata": {},
   "outputs": [],
   "source": []
  }
 ],
 "metadata": {
  "kernelspec": {
   "display_name": "Python 3",
   "language": "python",
   "name": "python3"
  },
  "language_info": {
   "codemirror_mode": {
    "name": "ipython",
    "version": 3
   },
   "file_extension": ".py",
   "mimetype": "text/x-python",
   "name": "python",
   "nbconvert_exporter": "python",
   "pygments_lexer": "ipython3",
   "version": "3.12.1"
  }
 },
 "nbformat": 4,
 "nbformat_minor": 5
}
